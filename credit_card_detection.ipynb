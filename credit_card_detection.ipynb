{
  "cells": [
    {
      "cell_type": "markdown",
      "metadata": {
        "id": "MJe7Wjue5tck"
      },
      "source": [
        "# Credit Card Fraud Detection"
      ]
    },
    {
      "cell_type": "code",
      "execution_count": null,
      "metadata": {
        "id": "Pokw_gGm5tco"
      },
      "outputs": [],
      "source": [
        "#Importing necessary algorithms\n",
        "\n",
        "import pandas as pd\n",
        "import matplotlib.pyplot as plt\n",
        "import seaborn as sns\n",
        "\n",
        "from sklearn.metrics import classification_report, accuracy_score\n",
        "from sklearn.ensemble import IsolationForest\n",
        "from sklearn.neighbors import LocalOutlierFactor"
      ]
    },
    {
      "cell_type": "markdown",
      "metadata": {
        "id": "i2o0xZjU5tcr"
      },
      "source": [
        "## Step 1 : Dataset Loading and Analysis"
      ]
    },
    {
      "cell_type": "code",
      "execution_count": null,
      "metadata": {
        "id": "PUtKXbkB5tcs"
      },
      "outputs": [],
      "source": [
        "# Load Dataset into a dataframeframe using pandas\n",
        "\n",
        "df = pd.read_csv('creditcard.csv')"
      ]
    },
    {
      "cell_type": "code",
      "execution_count": null,
      "metadata": {
        "id": "HuCI6j9Z5tct",
        "outputId": "97ee700d-3f13-4be5-ee25-d302f388b2da"
      },
      "outputs": [
        {
          "name": "stdout",
          "output_type": "stream",
          "text": [
            "Shape of the Dataset:  (284807, 31)\n",
            "\n",
            "\n",
            " Index(['Time', 'V1', 'V2', 'V3', 'V4', 'V5', 'V6', 'V7', 'V8', 'V9', 'V10',\n",
            "       'V11', 'V12', 'V13', 'V14', 'V15', 'V16', 'V17', 'V18', 'V19', 'V20',\n",
            "       'V21', 'V22', 'V23', 'V24', 'V25', 'V26', 'V27', 'V28', 'Amount',\n",
            "       'Class'],\n",
            "      dtype='object')\n"
          ]
        }
      ],
      "source": [
        "print(\"Shape of the Dataset: \", df.shape) # number of rows and columns in our dataset\n",
        "print(\"\\n\\n\", df.columns) # columns/features in our Dataset"
      ]
    },
    {
      "cell_type": "code",
      "execution_count": null,
      "metadata": {
        "id": "OK8b1PgP5tcw",
        "outputId": "87be9ae7-4a4c-4d59-8281-ab592a442496"
      },
      "outputs": [
        {
          "data": {
            "text/html": [
              "<div>\n",
              "<style scoped>\n",
              "    .dataframe tbody tr th:only-of-type {\n",
              "        vertical-align: middle;\n",
              "    }\n",
              "\n",
              "    .dataframe tbody tr th {\n",
              "        vertical-align: top;\n",
              "    }\n",
              "\n",
              "    .dataframe thead th {\n",
              "        text-align: right;\n",
              "    }\n",
              "</style>\n",
              "<table border=\"1\" class=\"dataframe\">\n",
              "  <thead>\n",
              "    <tr style=\"text-align: right;\">\n",
              "      <th></th>\n",
              "      <th>Time</th>\n",
              "      <th>V1</th>\n",
              "      <th>V2</th>\n",
              "      <th>V3</th>\n",
              "      <th>V4</th>\n",
              "      <th>V5</th>\n",
              "      <th>V6</th>\n",
              "      <th>V7</th>\n",
              "      <th>V8</th>\n",
              "      <th>V9</th>\n",
              "      <th>...</th>\n",
              "      <th>V21</th>\n",
              "      <th>V22</th>\n",
              "      <th>V23</th>\n",
              "      <th>V24</th>\n",
              "      <th>V25</th>\n",
              "      <th>V26</th>\n",
              "      <th>V27</th>\n",
              "      <th>V28</th>\n",
              "      <th>Amount</th>\n",
              "      <th>Class</th>\n",
              "    </tr>\n",
              "  </thead>\n",
              "  <tbody>\n",
              "    <tr>\n",
              "      <th>0</th>\n",
              "      <td>0.0</td>\n",
              "      <td>-1.359807</td>\n",
              "      <td>-0.072781</td>\n",
              "      <td>2.536347</td>\n",
              "      <td>1.378155</td>\n",
              "      <td>-0.338321</td>\n",
              "      <td>0.462388</td>\n",
              "      <td>0.239599</td>\n",
              "      <td>0.098698</td>\n",
              "      <td>0.363787</td>\n",
              "      <td>...</td>\n",
              "      <td>-0.018307</td>\n",
              "      <td>0.277838</td>\n",
              "      <td>-0.110474</td>\n",
              "      <td>0.066928</td>\n",
              "      <td>0.128539</td>\n",
              "      <td>-0.189115</td>\n",
              "      <td>0.133558</td>\n",
              "      <td>-0.021053</td>\n",
              "      <td>149.62</td>\n",
              "      <td>0</td>\n",
              "    </tr>\n",
              "    <tr>\n",
              "      <th>1</th>\n",
              "      <td>0.0</td>\n",
              "      <td>1.191857</td>\n",
              "      <td>0.266151</td>\n",
              "      <td>0.166480</td>\n",
              "      <td>0.448154</td>\n",
              "      <td>0.060018</td>\n",
              "      <td>-0.082361</td>\n",
              "      <td>-0.078803</td>\n",
              "      <td>0.085102</td>\n",
              "      <td>-0.255425</td>\n",
              "      <td>...</td>\n",
              "      <td>-0.225775</td>\n",
              "      <td>-0.638672</td>\n",
              "      <td>0.101288</td>\n",
              "      <td>-0.339846</td>\n",
              "      <td>0.167170</td>\n",
              "      <td>0.125895</td>\n",
              "      <td>-0.008983</td>\n",
              "      <td>0.014724</td>\n",
              "      <td>2.69</td>\n",
              "      <td>0</td>\n",
              "    </tr>\n",
              "    <tr>\n",
              "      <th>2</th>\n",
              "      <td>1.0</td>\n",
              "      <td>-1.358354</td>\n",
              "      <td>-1.340163</td>\n",
              "      <td>1.773209</td>\n",
              "      <td>0.379780</td>\n",
              "      <td>-0.503198</td>\n",
              "      <td>1.800499</td>\n",
              "      <td>0.791461</td>\n",
              "      <td>0.247676</td>\n",
              "      <td>-1.514654</td>\n",
              "      <td>...</td>\n",
              "      <td>0.247998</td>\n",
              "      <td>0.771679</td>\n",
              "      <td>0.909412</td>\n",
              "      <td>-0.689281</td>\n",
              "      <td>-0.327642</td>\n",
              "      <td>-0.139097</td>\n",
              "      <td>-0.055353</td>\n",
              "      <td>-0.059752</td>\n",
              "      <td>378.66</td>\n",
              "      <td>0</td>\n",
              "    </tr>\n",
              "    <tr>\n",
              "      <th>3</th>\n",
              "      <td>1.0</td>\n",
              "      <td>-0.966272</td>\n",
              "      <td>-0.185226</td>\n",
              "      <td>1.792993</td>\n",
              "      <td>-0.863291</td>\n",
              "      <td>-0.010309</td>\n",
              "      <td>1.247203</td>\n",
              "      <td>0.237609</td>\n",
              "      <td>0.377436</td>\n",
              "      <td>-1.387024</td>\n",
              "      <td>...</td>\n",
              "      <td>-0.108300</td>\n",
              "      <td>0.005274</td>\n",
              "      <td>-0.190321</td>\n",
              "      <td>-1.175575</td>\n",
              "      <td>0.647376</td>\n",
              "      <td>-0.221929</td>\n",
              "      <td>0.062723</td>\n",
              "      <td>0.061458</td>\n",
              "      <td>123.50</td>\n",
              "      <td>0</td>\n",
              "    </tr>\n",
              "    <tr>\n",
              "      <th>4</th>\n",
              "      <td>2.0</td>\n",
              "      <td>-1.158233</td>\n",
              "      <td>0.877737</td>\n",
              "      <td>1.548718</td>\n",
              "      <td>0.403034</td>\n",
              "      <td>-0.407193</td>\n",
              "      <td>0.095921</td>\n",
              "      <td>0.592941</td>\n",
              "      <td>-0.270533</td>\n",
              "      <td>0.817739</td>\n",
              "      <td>...</td>\n",
              "      <td>-0.009431</td>\n",
              "      <td>0.798278</td>\n",
              "      <td>-0.137458</td>\n",
              "      <td>0.141267</td>\n",
              "      <td>-0.206010</td>\n",
              "      <td>0.502292</td>\n",
              "      <td>0.219422</td>\n",
              "      <td>0.215153</td>\n",
              "      <td>69.99</td>\n",
              "      <td>0</td>\n",
              "    </tr>\n",
              "  </tbody>\n",
              "</table>\n",
              "<p>5 rows × 31 columns</p>\n",
              "</div>"
            ],
            "text/plain": [
              "   Time        V1        V2        V3        V4        V5        V6        V7  \\\n",
              "0   0.0 -1.359807 -0.072781  2.536347  1.378155 -0.338321  0.462388  0.239599   \n",
              "1   0.0  1.191857  0.266151  0.166480  0.448154  0.060018 -0.082361 -0.078803   \n",
              "2   1.0 -1.358354 -1.340163  1.773209  0.379780 -0.503198  1.800499  0.791461   \n",
              "3   1.0 -0.966272 -0.185226  1.792993 -0.863291 -0.010309  1.247203  0.237609   \n",
              "4   2.0 -1.158233  0.877737  1.548718  0.403034 -0.407193  0.095921  0.592941   \n",
              "\n",
              "         V8        V9  ...       V21       V22       V23       V24       V25  \\\n",
              "0  0.098698  0.363787  ... -0.018307  0.277838 -0.110474  0.066928  0.128539   \n",
              "1  0.085102 -0.255425  ... -0.225775 -0.638672  0.101288 -0.339846  0.167170   \n",
              "2  0.247676 -1.514654  ...  0.247998  0.771679  0.909412 -0.689281 -0.327642   \n",
              "3  0.377436 -1.387024  ... -0.108300  0.005274 -0.190321 -1.175575  0.647376   \n",
              "4 -0.270533  0.817739  ... -0.009431  0.798278 -0.137458  0.141267 -0.206010   \n",
              "\n",
              "        V26       V27       V28  Amount  Class  \n",
              "0 -0.189115  0.133558 -0.021053  149.62      0  \n",
              "1  0.125895 -0.008983  0.014724    2.69      0  \n",
              "2 -0.139097 -0.055353 -0.059752  378.66      0  \n",
              "3 -0.221929  0.062723  0.061458  123.50      0  \n",
              "4  0.502292  0.219422  0.215153   69.99      0  \n",
              "\n",
              "[5 rows x 31 columns]"
            ]
          },
          "execution_count": 4,
          "metadata": {},
          "output_type": "execute_result"
        }
      ],
      "source": [
        "df.head() # first five records"
      ]
    },
    {
      "cell_type": "code",
      "execution_count": null,
      "metadata": {
        "id": "stqeQ3b-5tcx",
        "outputId": "c1d556d1-6037-46bf-8fd2-2b70b263541e"
      },
      "outputs": [
        {
          "data": {
            "text/html": [
              "<div>\n",
              "<style scoped>\n",
              "    .dataframe tbody tr th:only-of-type {\n",
              "        vertical-align: middle;\n",
              "    }\n",
              "\n",
              "    .dataframe tbody tr th {\n",
              "        vertical-align: top;\n",
              "    }\n",
              "\n",
              "    .dataframe thead th {\n",
              "        text-align: right;\n",
              "    }\n",
              "</style>\n",
              "<table border=\"1\" class=\"dataframe\">\n",
              "  <thead>\n",
              "    <tr style=\"text-align: right;\">\n",
              "      <th></th>\n",
              "      <th>Time</th>\n",
              "      <th>V1</th>\n",
              "      <th>V2</th>\n",
              "      <th>V3</th>\n",
              "      <th>V4</th>\n",
              "      <th>V5</th>\n",
              "      <th>V6</th>\n",
              "      <th>V7</th>\n",
              "      <th>V8</th>\n",
              "      <th>V9</th>\n",
              "      <th>...</th>\n",
              "      <th>V21</th>\n",
              "      <th>V22</th>\n",
              "      <th>V23</th>\n",
              "      <th>V24</th>\n",
              "      <th>V25</th>\n",
              "      <th>V26</th>\n",
              "      <th>V27</th>\n",
              "      <th>V28</th>\n",
              "      <th>Amount</th>\n",
              "      <th>Class</th>\n",
              "    </tr>\n",
              "  </thead>\n",
              "  <tbody>\n",
              "    <tr>\n",
              "      <th>284802</th>\n",
              "      <td>172786.0</td>\n",
              "      <td>-11.881118</td>\n",
              "      <td>10.071785</td>\n",
              "      <td>-9.834783</td>\n",
              "      <td>-2.066656</td>\n",
              "      <td>-5.364473</td>\n",
              "      <td>-2.606837</td>\n",
              "      <td>-4.918215</td>\n",
              "      <td>7.305334</td>\n",
              "      <td>1.914428</td>\n",
              "      <td>...</td>\n",
              "      <td>0.213454</td>\n",
              "      <td>0.111864</td>\n",
              "      <td>1.014480</td>\n",
              "      <td>-0.509348</td>\n",
              "      <td>1.436807</td>\n",
              "      <td>0.250034</td>\n",
              "      <td>0.943651</td>\n",
              "      <td>0.823731</td>\n",
              "      <td>0.77</td>\n",
              "      <td>0</td>\n",
              "    </tr>\n",
              "    <tr>\n",
              "      <th>284803</th>\n",
              "      <td>172787.0</td>\n",
              "      <td>-0.732789</td>\n",
              "      <td>-0.055080</td>\n",
              "      <td>2.035030</td>\n",
              "      <td>-0.738589</td>\n",
              "      <td>0.868229</td>\n",
              "      <td>1.058415</td>\n",
              "      <td>0.024330</td>\n",
              "      <td>0.294869</td>\n",
              "      <td>0.584800</td>\n",
              "      <td>...</td>\n",
              "      <td>0.214205</td>\n",
              "      <td>0.924384</td>\n",
              "      <td>0.012463</td>\n",
              "      <td>-1.016226</td>\n",
              "      <td>-0.606624</td>\n",
              "      <td>-0.395255</td>\n",
              "      <td>0.068472</td>\n",
              "      <td>-0.053527</td>\n",
              "      <td>24.79</td>\n",
              "      <td>0</td>\n",
              "    </tr>\n",
              "    <tr>\n",
              "      <th>284804</th>\n",
              "      <td>172788.0</td>\n",
              "      <td>1.919565</td>\n",
              "      <td>-0.301254</td>\n",
              "      <td>-3.249640</td>\n",
              "      <td>-0.557828</td>\n",
              "      <td>2.630515</td>\n",
              "      <td>3.031260</td>\n",
              "      <td>-0.296827</td>\n",
              "      <td>0.708417</td>\n",
              "      <td>0.432454</td>\n",
              "      <td>...</td>\n",
              "      <td>0.232045</td>\n",
              "      <td>0.578229</td>\n",
              "      <td>-0.037501</td>\n",
              "      <td>0.640134</td>\n",
              "      <td>0.265745</td>\n",
              "      <td>-0.087371</td>\n",
              "      <td>0.004455</td>\n",
              "      <td>-0.026561</td>\n",
              "      <td>67.88</td>\n",
              "      <td>0</td>\n",
              "    </tr>\n",
              "    <tr>\n",
              "      <th>284805</th>\n",
              "      <td>172788.0</td>\n",
              "      <td>-0.240440</td>\n",
              "      <td>0.530483</td>\n",
              "      <td>0.702510</td>\n",
              "      <td>0.689799</td>\n",
              "      <td>-0.377961</td>\n",
              "      <td>0.623708</td>\n",
              "      <td>-0.686180</td>\n",
              "      <td>0.679145</td>\n",
              "      <td>0.392087</td>\n",
              "      <td>...</td>\n",
              "      <td>0.265245</td>\n",
              "      <td>0.800049</td>\n",
              "      <td>-0.163298</td>\n",
              "      <td>0.123205</td>\n",
              "      <td>-0.569159</td>\n",
              "      <td>0.546668</td>\n",
              "      <td>0.108821</td>\n",
              "      <td>0.104533</td>\n",
              "      <td>10.00</td>\n",
              "      <td>0</td>\n",
              "    </tr>\n",
              "    <tr>\n",
              "      <th>284806</th>\n",
              "      <td>172792.0</td>\n",
              "      <td>-0.533413</td>\n",
              "      <td>-0.189733</td>\n",
              "      <td>0.703337</td>\n",
              "      <td>-0.506271</td>\n",
              "      <td>-0.012546</td>\n",
              "      <td>-0.649617</td>\n",
              "      <td>1.577006</td>\n",
              "      <td>-0.414650</td>\n",
              "      <td>0.486180</td>\n",
              "      <td>...</td>\n",
              "      <td>0.261057</td>\n",
              "      <td>0.643078</td>\n",
              "      <td>0.376777</td>\n",
              "      <td>0.008797</td>\n",
              "      <td>-0.473649</td>\n",
              "      <td>-0.818267</td>\n",
              "      <td>-0.002415</td>\n",
              "      <td>0.013649</td>\n",
              "      <td>217.00</td>\n",
              "      <td>0</td>\n",
              "    </tr>\n",
              "  </tbody>\n",
              "</table>\n",
              "<p>5 rows × 31 columns</p>\n",
              "</div>"
            ],
            "text/plain": [
              "            Time         V1         V2        V3        V4        V5  \\\n",
              "284802  172786.0 -11.881118  10.071785 -9.834783 -2.066656 -5.364473   \n",
              "284803  172787.0  -0.732789  -0.055080  2.035030 -0.738589  0.868229   \n",
              "284804  172788.0   1.919565  -0.301254 -3.249640 -0.557828  2.630515   \n",
              "284805  172788.0  -0.240440   0.530483  0.702510  0.689799 -0.377961   \n",
              "284806  172792.0  -0.533413  -0.189733  0.703337 -0.506271 -0.012546   \n",
              "\n",
              "              V6        V7        V8        V9  ...       V21       V22  \\\n",
              "284802 -2.606837 -4.918215  7.305334  1.914428  ...  0.213454  0.111864   \n",
              "284803  1.058415  0.024330  0.294869  0.584800  ...  0.214205  0.924384   \n",
              "284804  3.031260 -0.296827  0.708417  0.432454  ...  0.232045  0.578229   \n",
              "284805  0.623708 -0.686180  0.679145  0.392087  ...  0.265245  0.800049   \n",
              "284806 -0.649617  1.577006 -0.414650  0.486180  ...  0.261057  0.643078   \n",
              "\n",
              "             V23       V24       V25       V26       V27       V28  Amount  \\\n",
              "284802  1.014480 -0.509348  1.436807  0.250034  0.943651  0.823731    0.77   \n",
              "284803  0.012463 -1.016226 -0.606624 -0.395255  0.068472 -0.053527   24.79   \n",
              "284804 -0.037501  0.640134  0.265745 -0.087371  0.004455 -0.026561   67.88   \n",
              "284805 -0.163298  0.123205 -0.569159  0.546668  0.108821  0.104533   10.00   \n",
              "284806  0.376777  0.008797 -0.473649 -0.818267 -0.002415  0.013649  217.00   \n",
              "\n",
              "        Class  \n",
              "284802      0  \n",
              "284803      0  \n",
              "284804      0  \n",
              "284805      0  \n",
              "284806      0  \n",
              "\n",
              "[5 rows x 31 columns]"
            ]
          },
          "execution_count": 5,
          "metadata": {},
          "output_type": "execute_result"
        }
      ],
      "source": [
        "df.tail() # last five records"
      ]
    },
    {
      "cell_type": "code",
      "execution_count": null,
      "metadata": {
        "id": "oJoke0SY5tcy",
        "outputId": "214ce890-40cd-4ef4-89f1-1cc95aa9c788"
      },
      "outputs": [
        {
          "name": "stdout",
          "output_type": "stream",
          "text": [
            "Shape of the Dataset:  (85442, 31)\n"
          ]
        }
      ],
      "source": [
        "# Print the shape of the dataframe\n",
        "\n",
        "df = df.sample(frac = 0.3, random_state = 42) # using 30% of our dataset for next steps\n",
        "print(\"Shape of the Dataset: \", df.shape)"
      ]
    },
    {
      "cell_type": "code",
      "execution_count": null,
      "metadata": {
        "id": "Cf7hCvp05tcz",
        "outputId": "5cc75e44-5bdc-4d66-9d7f-e71b1a65b0a7"
      },
      "outputs": [
        {
          "name": "stdout",
          "output_type": "stream",
          "text": [
            "Outlier_fraction: 0.15942606616181745 %\n",
            "Fraud Cases: 136\n",
            "Valid Transactions: 85306\n"
          ]
        }
      ],
      "source": [
        "# Determine number of fraud cases in Dataset\n",
        "\n",
        "Fraud = df[df['Class'] == 1]\n",
        "Valid = df[df['Class'] == 0]\n",
        "\n",
        "outlier_fraction = (len(Fraud)/float(len(Valid)))\n",
        "print(\"Outlier_fraction: {0} %\".format(outlier_fraction*100))\n",
        "\n",
        "print('Fraud Cases: {}'.format(len(df[df['Class'] == 1])))\n",
        "print('Valid Transactions: {}'.format(len(df[df['Class'] == 0])))"
      ]
    },
    {
      "cell_type": "code",
      "execution_count": null,
      "metadata": {
        "id": "gy_rCPG35tc0",
        "outputId": "697d89d4-00bb-4ee2-e3ba-45836394b708"
      },
      "outputs": [
        {
          "name": "stdout",
          "output_type": "stream",
          "text": [
            "Description of the Dataset:                  Time            V1            V2            V3            V4  \\\n",
            "count   85442.000000  85442.000000  85442.000000  85442.000000  85442.000000   \n",
            "mean    94967.874862      0.003465      0.005440     -0.004776      0.002485   \n",
            "std     47520.526676      1.953426      1.611981      1.520529      1.413738   \n",
            "min         0.000000    -37.558067    -48.060856    -33.680984     -5.600607   \n",
            "25%     54257.500000     -0.918861     -0.597627     -0.898758     -0.845937   \n",
            "50%     84962.000000      0.027558      0.063774      0.172342     -0.015543   \n",
            "75%    139498.000000      1.318759      0.804713      1.024434      0.748582   \n",
            "max    172787.000000      2.439207     21.467203      9.382558     12.699542   \n",
            "\n",
            "                 V5            V6            V7            V8            V9  \\\n",
            "count  85442.000000  85442.000000  85442.000000  85442.000000  85442.000000   \n",
            "mean      -0.001153      0.004429     -0.006112      0.002718      0.000754   \n",
            "std        1.349284      1.319968      1.210313      1.208154      1.102415   \n",
            "min      -35.182120    -20.869626    -41.506796    -50.420090    -13.434066   \n",
            "25%       -0.696577     -0.768914     -0.559112     -0.210279     -0.645266   \n",
            "50%       -0.049751     -0.274150      0.033633      0.022630     -0.052660   \n",
            "75%        0.616161      0.408217      0.570121      0.328653      0.596925   \n",
            "max       29.016124     21.550496     36.877368     19.168327     15.594995   \n",
            "\n",
            "       ...           V21           V22           V23           V24  \\\n",
            "count  ...  85442.000000  85442.000000  85442.000000  85442.000000   \n",
            "mean   ...      0.000718      0.004176      0.000418      0.001474   \n",
            "std    ...      0.741520      0.726443      0.603298      0.605319   \n",
            "min    ...    -22.889347     -8.887017    -32.828995     -2.824849   \n",
            "25%    ...     -0.227053     -0.540678     -0.163221     -0.354200   \n",
            "50%    ...     -0.028621      0.010637     -0.012297      0.041341   \n",
            "75%    ...      0.187034      0.534284      0.147358      0.440782   \n",
            "max    ...     27.202839      8.361985     22.083545      3.990646   \n",
            "\n",
            "                V25           V26           V27           V28        Amount  \\\n",
            "count  85442.000000  85442.000000  85442.000000  85442.000000  85442.000000   \n",
            "mean       0.002232     -0.001562      0.001341      0.000050     87.300225   \n",
            "std        0.518783      0.481643      0.397284      0.331885    229.571240   \n",
            "min       -8.696627     -2.068561    -22.565679    -11.710896      0.000000   \n",
            "25%       -0.315966     -0.327504     -0.070385     -0.052708      5.550000   \n",
            "50%        0.020395     -0.055808      0.001562      0.010932     22.000000   \n",
            "75%        0.351311      0.237731      0.090261      0.077683     76.987500   \n",
            "max        6.070850      3.463246      9.200883     16.129609  10000.000000   \n",
            "\n",
            "              Class  \n",
            "count  85442.000000  \n",
            "mean       0.001592  \n",
            "std        0.039865  \n",
            "min        0.000000  \n",
            "25%        0.000000  \n",
            "50%        0.000000  \n",
            "75%        0.000000  \n",
            "max        1.000000  \n",
            "\n",
            "[8 rows x 31 columns]\n"
          ]
        }
      ],
      "source": [
        "# The columns have been encrypted using PCA Dimensionality reduction to protect user identities and sensitive features\n",
        "\n",
        "print(\"Description of the Dataset: \", df.describe())"
      ]
    },
    {
      "cell_type": "markdown",
      "metadata": {
        "id": "89uwvCf45tc1"
      },
      "source": [
        "## Step 2 : Data Visualization"
      ]
    },
    {
      "cell_type": "code",
      "execution_count": null,
      "metadata": {
        "id": "Bbr6tJbi5tc2",
        "outputId": "881a0db1-a732-4a7b-8422-dcf76dc8fefe"
      },
      "outputs": [
        {
          "data": {
            "image/png": "[encoded data removed]",
            "text/plain": [
              "<Figure size 1080x1080 with 36 Axes>"
            ]
          },
          "metadata": {
            "needs_background": "light"
          },
          "output_type": "display_data"
        }
      ],
      "source": [
        "# Plot histograms for each parameter\n",
        "\n",
        "df.hist(figsize = (15, 15))\n",
        "plt.show()"
      ]
    },
    {
      "cell_type": "code",
      "execution_count": null,
      "metadata": {
        "id": "yF2KqmAF5tc3",
        "outputId": "e3823673-a8b2-4de0-981e-e16c33683cde"
      },
      "outputs": [
        {
          "data": {
            "image/png": "[encoded data removed]",
            "text/plain": [
              "<Figure size 1080x1080 with 2 Axes>"
            ]
          },
          "metadata": {
            "needs_background": "light"
          },
          "output_type": "display_data"
        }
      ],
      "source": [
        "# Correlation matrix\n",
        "\n",
        "corrmat = df.corr()\n",
        "fig = plt.figure(figsize = (15, 15))\n",
        "\n",
        "#Plotting a heatmap to visualize the correlation matrix and see features\n",
        "# with strong correlation to the target class\n",
        "sns.heatmap(corrmat, vmax = .6, square = True) # vmax is the max and min value you want to have for the scale\n",
        "plt.show()"
      ]
    },
    {
      "cell_type": "code",
      "execution_count": null,
      "metadata": {
        "id": "00cOU5ud5tc4",
        "outputId": "3d09570a-c508-41b0-89de-91a2bb7ba8ef"
      },
      "outputs": [
        {
          "data": {
            "text/plain": [
              "Time     -0.008402\n",
              "V1       -0.121864\n",
              "V2        0.105051\n",
              "V3       -0.208042\n",
              "V4        0.128095\n",
              "V5       -0.118543\n",
              "V6       -0.038185\n",
              "V7       -0.217359\n",
              "V8       -0.001888\n",
              "V9       -0.099826\n",
              "V10      -0.228272\n",
              "V11       0.153159\n",
              "V12      -0.256577\n",
              "V13      -0.012188\n",
              "V14      -0.294882\n",
              "V15      -0.006388\n",
              "V16      -0.205082\n",
              "V17      -0.345739\n",
              "V18      -0.121619\n",
              "V19       0.034440\n",
              "V20       0.025939\n",
              "V21       0.052617\n",
              "V22      -0.003520\n",
              "V23       0.011271\n",
              "V24      -0.006823\n",
              "V25       0.005641\n",
              "V26      -0.002010\n",
              "V27       0.013635\n",
              "V28       0.007974\n",
              "Amount    0.009849\n",
              "Class     1.000000\n",
              "Name: Class, dtype: float64"
            ]
          },
          "execution_count": 11,
          "metadata": {},
          "output_type": "execute_result"
        }
      ],
      "source": [
        "corrmat['Class']"
      ]
    },
    {
      "cell_type": "code",
      "execution_count": null,
      "metadata": {
        "id": "zOwn2F585tc5",
        "outputId": "6bd48285-5e02-4145-e4f5-2671de9f2c6d"
      },
      "outputs": [
        {
          "data": {
            "text/plain": [
              "31"
            ]
          },
          "execution_count": 12,
          "metadata": {},
          "output_type": "execute_result"
        }
      ],
      "source": [
        "len(corrmat['Class'])"
      ]
    },
    {
      "cell_type": "markdown",
      "metadata": {
        "id": "X_RU03cf5tc6"
      },
      "source": [
        "## Step 3 : Feature Selection"
      ]
    },
    {
      "cell_type": "code",
      "execution_count": null,
      "metadata": {
        "id": "0ZIq3D9N5tc6"
      },
      "outputs": [],
      "source": [
        "# getting columns which have correlation score > 0.01 or < -0.01, you can chose a different constant and experiment\n",
        "\n",
        "cols = corrmat.keys()\n",
        "cols_to_keep = []\n",
        "\n",
        "for i in range(len(corrmat)):\n",
        "\n",
        "    if abs(corrmat['Class'][i]) > 0.01:\n",
        "\n",
        "        cols_to_keep.append(cols[i])"
      ]
    },
    {
      "cell_type": "code",
      "execution_count": null,
      "metadata": {
        "id": "4E5azD3r5tc7",
        "outputId": "c4eb5b25-5037-4dac-ecf1-9c9dd22358f1"
      },
      "outputs": [
        {
          "data": {
            "text/plain": [
              "22"
            ]
          },
          "execution_count": 14,
          "metadata": {},
          "output_type": "execute_result"
        }
      ],
      "source": [
        "len(cols_to_keep) # the final features list we wish to keep"
      ]
    },
    {
      "cell_type": "code",
      "execution_count": null,
      "metadata": {
        "id": "_3NIK9wQ5tc8",
        "outputId": "0b80a7ae-a650-40db-c8ef-156c49b838b9"
      },
      "outputs": [
        {
          "data": {
            "text/plain": [
              "['V1',\n",
              " 'V2',\n",
              " 'V3',\n",
              " 'V4',\n",
              " 'V5',\n",
              " 'V6',\n",
              " 'V7',\n",
              " 'V9',\n",
              " 'V10',\n",
              " 'V11',\n",
              " 'V12',\n",
              " 'V13',\n",
              " 'V14',\n",
              " 'V16',\n",
              " 'V17',\n",
              " 'V18',\n",
              " 'V19',\n",
              " 'V20',\n",
              " 'V21',\n",
              " 'V23',\n",
              " 'V27',\n",
              " 'Class']"
            ]
          },
          "execution_count": 15,
          "metadata": {},
          "output_type": "execute_result"
        }
      ],
      "source": [
        "cols_to_keep"
      ]
    },
    {
      "cell_type": "code",
      "execution_count": null,
      "metadata": {
        "id": "M6Gom7gk5tc8"
      },
      "outputs": [],
      "source": [
        "# removing the 'Class' columnn from the features list, as it is the variable we wish to predict\n",
        "\n",
        "cols = cols_to_keep[:-1]"
      ]
    },
    {
      "cell_type": "code",
      "execution_count": null,
      "metadata": {
        "id": "K4vHKrW05tc9",
        "outputId": "8c1a2400-d12e-4e08-8a4d-d04aa69ee0bb"
      },
      "outputs": [
        {
          "name": "stdout",
          "output_type": "stream",
          "text": [
            "(85442, 21)\n",
            "(85442,)\n"
          ]
        }
      ],
      "source": [
        "features = df[cols] # records of all transactions, excluding the target class\n",
        "target = df[\"Class\"] # records of the corresponding label for each record\n",
        "\n",
        "print(features.shape)\n",
        "print(target.shape)"
      ]
    },
    {
      "cell_type": "markdown",
      "metadata": {
        "id": "SW2K2ISH5tc-"
      },
      "source": [
        "## Step 4 : Model Training and Selection"
      ]
    },
    {
      "cell_type": "markdown",
      "metadata": {
        "id": "nCQQ9wOi5tc-"
      },
      "source": [
        "The machine learning algorithms that we are going to use are:\n",
        "\n",
        "Local Outlier Factor\n",
        "Isolation Forest\n",
        "We are using them by importing them directly from scikit-learn; however, if you're interested in learning about their theory, you can refer to the two resources mentioned below:\n",
        "\n",
        "#### LOF: https://towardsdataframescience.com/local-outlier-factor-for-anomaly-detection-cc0c770d2ebe\n",
        "#### IF: https://medium.com/@often_weird/isolation-forest-algorithm-for-anomaly-detection-f88af2d5518d"
      ]
    },
    {
      "cell_type": "code",
      "execution_count": null,
      "metadata": {
        "id": "KL-90AXs5tc_"
      },
      "outputs": [],
      "source": [
        "# define random states\n",
        "state = 1\n",
        "\n",
        "# define outlier detection tools to be compared\n",
        "classifiers = {\n",
        "    \"IF\": IsolationForest(max_samples = len(features),\n",
        "                                        contamination = outlier_fraction,\n",
        "                                        random_state = state),\n",
        "    \"LOF\": LocalOutlierFactor(\n",
        "        n_neighbors = 20,\n",
        "        contamination = outlier_fraction)}"
      ]
    },
    {
      "cell_type": "code",
      "execution_count": null,
      "metadata": {
        "id": "4oNfXzXw5tc_",
        "outputId": "197a2a1b-e918-4587-b66c-eefba47edf49"
      },
      "outputs": [
        {
          "name": "stdout",
          "output_type": "stream",
          "text": [
            "Classifier IF: \n",
            "Number of Errors: 173\n",
            "Accuracy: 99.797523466211%\n",
            "\n",
            "              precision    recall  f1-score   support\n",
            "\n",
            "           0       1.00      1.00      1.00     85306\n",
            "           1       0.36      0.37      0.37       136\n",
            "\n",
            "    accuracy                           1.00     85442\n",
            "   macro avg       0.68      0.68      0.68     85442\n",
            "weighted avg       1.00      1.00      1.00     85442\n",
            "\n",
            "Classifier LOF: \n",
            "Number of Errors: 273\n",
            "Accuracy: 99.68048500737342%\n",
            "\n",
            "              precision    recall  f1-score   support\n",
            "\n",
            "           0       1.00      1.00      1.00     85306\n",
            "           1       0.00      0.00      0.00       136\n",
            "\n",
            "    accuracy                           1.00     85442\n",
            "   macro avg       0.50      0.50      0.50     85442\n",
            "weighted avg       1.00      1.00      1.00     85442\n",
            "\n"
          ]
        }
      ],
      "source": [
        "# skipping the train, test split step because we wish the model to overfit on these features and learn\n",
        "# a mathematical function to map the features\n",
        "\n",
        "n_outliers = len(Fraud)\n",
        "\n",
        "# Fit the model\n",
        "for i, (clf_name, clf) in enumerate(classifiers.items()):\n",
        "\n",
        "    # fit the dataframe and tag outliers\n",
        "    if clf_name == \"LOF\":\n",
        "\n",
        "        y_pred = clf.fit_predict(features)\n",
        "        scores_pred = clf.negative_outlier_factor_\n",
        "\n",
        "    else:\n",
        "\n",
        "        # train/fit classifier on our features\n",
        "        clf.fit(features)\n",
        "        # generate predictions\n",
        "        scores_pred = clf.decision_function(features)\n",
        "        y_pred = clf.predict(features)\n",
        "\n",
        "    # Reshape the prediction values to 0 for valid, 1 for fraud.\n",
        "\n",
        "    y_pred[y_pred == 1] = 0\n",
        "    y_pred[y_pred == -1] = 1\n",
        "\n",
        "    n_errors = (y_pred != target).sum()\n",
        "\n",
        "    # Run classification metrics\n",
        "    print('Classifier {0}: \\nNumber of Errors: {1}'.format(clf_name, n_errors))\n",
        "    print('Accuracy: {0}%\\n'.format(accuracy_score(target, y_pred)*100))\n",
        "    print(classification_report(target, y_pred))"
      ]
    }
  ],
  "metadata": {
    "kernelspec": {
      "display_name": "Python 3",
      "language": "python",
      "name": "python3"
    },
    "language_info": {
      "codemirror_mode": {
        "name": "ipython",
        "version": 3
      },
      "file_extension": ".py",
      "mimetype": "text/x-python",
      "name": "python",
      "nbconvert_exporter": "python",
      "pygments_lexer": "ipython3",
      "version": "3.8.3"
    },
    "colab": {
      "provenance": []
    }
  },
  "nbformat": 4,
  "nbformat_minor": 0
}